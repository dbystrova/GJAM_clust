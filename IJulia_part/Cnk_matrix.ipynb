{
 "cells": [
  {
   "cell_type": "code",
   "execution_count": 1,
   "metadata": {},
   "outputs": [
    {
     "name": "stdout",
     "output_type": "stream",
     "text": [
      "\n",
      "Welcome to Nemo version 0.17.1-dev\n",
      "\n",
      "Nemo comes with absolutely no warranty whatsoever\n",
      "\n"
     ]
    },
    {
     "data": {
      "text/plain": [
       "Cnk_rec (generic function with 1 method)"
      ]
     },
     "execution_count": 1,
     "metadata": {},
     "output_type": "execute_result"
    }
   ],
   "source": [
    "include(\"/Users/dariabystrova/Documents/GitHub/GibbsTypePriors/src/common_functions.jl\")\n",
    "include(\"/Users/dariabystrova/Documents/GitHub/GibbsTypePriors/src/Cnk.jl\")"
   ]
  },
  {
   "cell_type": "code",
   "execution_count": 2,
   "metadata": {},
   "outputs": [],
   "source": [
    "using DataFrames, DataFramesMeta, RCall"
   ]
  },
  {
   "cell_type": "code",
   "execution_count": 3,
   "metadata": {},
   "outputs": [
    {
     "data": {
      "text/plain": [
       "compute_Cnk_matrix (generic function with 1 method)"
      ]
     },
     "execution_count": 3,
     "metadata": {},
     "output_type": "execute_result"
    }
   ],
   "source": [
    "function compute_Cnk_matrix(n, H, σ) \n",
    "   Cnk_matrix = Array{Float64}(undef,n,n )\n",
    "    for j in (1:n)\n",
    "        for l in (1:n)\n",
    "        if (l<= j)\n",
    "          Cnk_matrix[j,l] =  log(Cnk(j, l, σ)) - l* log(RR(H))|> Float64\n",
    "            end\n",
    "            if (l> j)\n",
    "          Cnk_matrix[j,l] = 0\n",
    "            end        \n",
    "        end\n",
    "    end\n",
    "    return Cnk_matrix\n",
    "end\n",
    "\n"
   ]
  },
  {
   "cell_type": "code",
   "execution_count": 4,
   "metadata": {},
   "outputs": [
    {
     "name": "stdout",
     "output_type": "stream",
     "text": [
      "[1] -5.411646\n"
     ]
    },
    {
     "data": {
      "text/plain": [
       "RObject{RealSxp}\n",
       "[1] -5.411646\n"
      ]
     },
     "execution_count": 4,
     "metadata": {},
     "output_type": "execute_result"
    }
   ],
   "source": [
    "R\" \n",
    "Cnk_112_112_05 = matrix(0,112, 112)\n",
    "Cnk_112_112_05= $(compute_Cnk_matrix(112,112,0.5))\n",
    "save(Cnk_112_112_05,file ='Cnk_mat_112_05.Rdata')\n",
    "print(Cnk_112_112_05[1,1])\n",
    "\""
   ]
  },
  {
   "cell_type": "code",
   "execution_count": 6,
   "metadata": {},
   "outputs": [
    {
     "name": "stdout",
     "output_type": "stream",
     "text": [
      "[1] -6.104793\n"
     ]
    },
    {
     "data": {
      "text/plain": [
       "RObject{RealSxp}\n",
       "[1] -6.104793\n"
      ]
     },
     "execution_count": 6,
     "metadata": {},
     "output_type": "execute_result"
    }
   ],
   "source": [
    "R\" \n",
    "Cnk_112_112_025 = matrix(0,112, 112)\n",
    "Cnk_112_112_025= $(compute_Cnk_matrix(112,112,0.25))\n",
    "save(Cnk_112_112_025,file ='Cnk_mat_112_025.Rdata')\n",
    "print(Cnk_112_112_025[1,1])\n",
    "\""
   ]
  },
  {
   "cell_type": "code",
   "execution_count": 6,
   "metadata": {},
   "outputs": [
    {
     "name": "stdout",
     "output_type": "stream",
     "text": [
      "[1] -1.386294\n"
     ]
    },
    {
     "data": {
      "text/plain": [
       "RObject{RealSxp}\n",
       "[1] -1.386294\n"
      ]
     },
     "execution_count": 6,
     "metadata": {},
     "output_type": "execute_result"
    }
   ],
   "source": [
    "R\" \n",
    "Cnk_112_112_H025 = matrix(0,112, 112)\n",
    "Cnk_112_112_H025= $(compute_Cnk_matrix(112,1,0.25))\n",
    "save(Cnk_112_112_H025,file ='Cnk_mat_112_H025.Rdata')\n",
    "print(Cnk_112_112_H025[1,1])\n",
    "\""
   ]
  },
  {
   "cell_type": "code",
   "execution_count": 7,
   "metadata": {},
   "outputs": [
    {
     "data": {
      "text/plain": [
       "112×112 Array{Float64,2}:\n",
       "  -5.41165     0.0         0.0       …     0.0       0.0       0.0  \n",
       "  -6.10479   -10.8233      0.0             0.0       0.0       0.0  \n",
       "  -5.69933   -10.4178    -16.2349          0.0       0.0       0.0  \n",
       "  -4.78304    -9.50154   -15.1363          0.0       0.0       0.0  \n",
       "  -3.53027    -8.24877   -13.8146          0.0       0.0       0.0  \n",
       "  -2.0262     -6.7447    -12.2741    …     0.0       0.0       0.0  \n",
       "  -0.321449   -5.03995   -10.5469          0.0       0.0       0.0  \n",
       "   1.55035    -3.16815    -8.65983         0.0       0.0       0.0  \n",
       "   3.56526    -1.15324    -6.63388         0.0       0.0       0.0  \n",
       "   5.70532     0.986824   -4.48545         0.0       0.0       0.0  \n",
       "   7.95661     3.23812    -2.2276    …     0.0       0.0       0.0  \n",
       "  10.308       5.58949     0.129054        0.0       0.0       0.0  \n",
       "  12.7503      8.03184     2.57574         0.0       0.0       0.0  \n",
       "   ⋮                                 ⋱               ⋮              \n",
       " 355.452     350.733     345.316     …     0.0       0.0       0.0  \n",
       " 360.062     355.343     349.927           0.0       0.0       0.0  \n",
       " 364.682     359.963     354.547           0.0       0.0       0.0  \n",
       " 369.312     364.593     359.177           0.0       0.0       0.0  \n",
       " 373.951     369.233     363.816           0.0       0.0       0.0  \n",
       " 378.6       373.882     368.465     …     0.0       0.0       0.0  \n",
       " 383.259     378.541     373.124           0.0       0.0       0.0  \n",
       " 387.927     383.209     377.792           0.0       0.0       0.0  \n",
       " 392.605     387.886     382.47            0.0       0.0       0.0  \n",
       " 397.291     392.573     387.157        -595.281     0.0       0.0  \n",
       " 401.987     397.269     391.853     …  -587.257  -600.693     0.0  \n",
       " 406.692     401.974     396.558        -579.891  -592.651  -606.104"
      ]
     },
     "execution_count": 7,
     "metadata": {},
     "output_type": "execute_result"
    }
   ],
   "source": [
    "A = compute_Cnk_matrix(112,112,0.5)"
   ]
  },
  {
   "cell_type": "markdown",
   "metadata": {},
   "source": [
    "# Prior distribution"
   ]
  }
 ],
 "metadata": {
  "kernelspec": {
   "display_name": "Julia 1.3.1",
   "language": "julia",
   "name": "julia-1.3"
  },
  "language_info": {
   "file_extension": ".jl",
   "mimetype": "application/julia",
   "name": "julia",
   "version": "1.3.1"
  }
 },
 "nbformat": 4,
 "nbformat_minor": 4
}
