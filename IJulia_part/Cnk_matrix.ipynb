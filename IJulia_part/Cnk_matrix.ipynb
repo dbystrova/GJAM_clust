{
 "cells": [
  {
   "cell_type": "code",
   "execution_count": 1,
   "metadata": {},
   "outputs": [
    {
     "name": "stdout",
     "output_type": "stream",
     "text": [
      "\n",
      "Welcome to Nemo version 0.17.1-dev\n",
      "\n",
      "Nemo comes with absolutely no warranty whatsoever\n",
      "\n"
     ]
    },
    {
     "data": {
      "text/plain": [
       "Cnk_rec (generic function with 1 method)"
      ]
     },
     "execution_count": 1,
     "metadata": {},
     "output_type": "execute_result"
    }
   ],
   "source": [
    "include(\"/Users/dariabystrova/Documents/GitHub/GibbsTypePriors/src/common_functions.jl\")\n",
    "include(\"/Users/dariabystrova/Documents/GitHub/GibbsTypePriors/src/Cnk.jl\")"
   ]
  },
  {
   "cell_type": "code",
   "execution_count": 2,
   "metadata": {},
   "outputs": [],
   "source": [
    "using DataFrames, DataFramesMeta, RCall"
   ]
  },
  {
   "cell_type": "code",
   "execution_count": 3,
   "metadata": {},
   "outputs": [
    {
     "data": {
      "text/plain": [
       "compute_Cnk_matrix (generic function with 1 method)"
      ]
     },
     "execution_count": 3,
     "metadata": {},
     "output_type": "execute_result"
    }
   ],
   "source": [
    "function compute_Cnk_matrix(n, H, σ) \n",
    "   Cnk_matrix = Array{Float64}(undef,n,n )\n",
    "    for j in (1:n)\n",
    "        for l in (1:n)\n",
    "        if (l<= j)\n",
    "          Cnk_matrix[j,l] =  log(Cnk(j, l, σ)) - l* log(RR(H))|> Float64\n",
    "            end\n",
    "            if (l> j)\n",
    "          Cnk_matrix[j,l] = 0\n",
    "            end        \n",
    "        end\n",
    "    end\n",
    "    return Cnk_matrix\n",
    "end\n",
    "\n"
   ]
  },
  {
   "cell_type": "code",
   "execution_count": 4,
   "metadata": {},
   "outputs": [
    {
     "name": "stdout",
     "output_type": "stream",
     "text": [
      "[1] -5.411646\n"
     ]
    },
    {
     "data": {
      "text/plain": [
       "RObject{RealSxp}\n",
       "[1] -5.411646\n"
      ]
     },
     "execution_count": 4,
     "metadata": {},
     "output_type": "execute_result"
    }
   ],
   "source": [
    "R\" \n",
    "Cnk_112_112_05 = matrix(0,112, 112)\n",
    "Cnk_112_112_05= $(compute_Cnk_matrix(112,112,0.5))\n",
    "save(Cnk_112_112_05,file ='Cnk_mat_112_05.Rdata')\n",
    "print(Cnk_112_112_05[1,1])\n",
    "\""
   ]
  },
  {
   "cell_type": "code",
   "execution_count": 6,
   "metadata": {},
   "outputs": [
    {
     "name": "stdout",
     "output_type": "stream",
     "text": [
      "[1] -6.104793\n"
     ]
    },
    {
     "data": {
      "text/plain": [
       "RObject{RealSxp}\n",
       "[1] -6.104793\n"
      ]
     },
     "execution_count": 6,
     "metadata": {},
     "output_type": "execute_result"
    }
   ],
   "source": [
    "R\" \n",
    "Cnk_112_112_025 = matrix(0,112, 112)\n",
    "Cnk_112_112_025= $(compute_Cnk_matrix(112,112,0.25))\n",
    "save(Cnk_112_112_025,file ='Cnk_mat_112_025.Rdata')\n",
    "print(Cnk_112_112_025[1,1])\n",
    "\""
   ]
  },
  {
   "cell_type": "code",
   "execution_count": 6,
   "metadata": {},
   "outputs": [
    {
     "name": "stdout",
     "output_type": "stream",
     "text": [
      "[1] -1.386294\n"
     ]
    },
    {
     "data": {
      "text/plain": [
       "RObject{RealSxp}\n",
       "[1] -1.386294\n"
      ]
     },
     "execution_count": 6,
     "metadata": {},
     "output_type": "execute_result"
    }
   ],
   "source": [
    "R\" \n",
    "Cnk_112_112_H025 = matrix(0,112, 112)\n",
    "Cnk_112_112_H025= $(compute_Cnk_matrix(112,1,0.25))\n",
    "save(Cnk_112_112_H025,file ='Cnk_mat_112_H025.Rdata')\n",
    "print(Cnk_112_112_H025[1,1])\n",
    "\""
   ]
  },
  {
   "cell_type": "code",
   "execution_count": 4,
   "metadata": {},
   "outputs": [
    {
     "name": "stdout",
     "output_type": "stream",
     "text": [
      "[1] -0.6931472\n"
     ]
    },
    {
     "data": {
      "text/plain": [
       "RObject{RealSxp}\n",
       "[1] -0.6931472\n"
      ]
     },
     "execution_count": 4,
     "metadata": {},
     "output_type": "execute_result"
    }
   ],
   "source": [
    "R\" \n",
    "Cnk_112_112_H05 = matrix(0,112, 112)\n",
    "Cnk_112_112_H05= $(compute_Cnk_matrix(112,1,0.5))\n",
    "save(Cnk_112_112_H05,file ='Cnk_mat_112_H05.Rdata')\n",
    "print(Cnk_112_112_H05[1,1])\n",
    "\""
   ]
  },
  {
   "cell_type": "code",
   "execution_count": 8,
   "metadata": {},
   "outputs": [
    {
     "data": {
      "text/plain": [
       "[10.423821297312623086080496780407466586738426137090710976951514130178309658383451681870480243545599456027181786335494649788973893754997025729781016370325089342212811306778780011274167721394172430739184829660405582872938115871100750785336043426600111464326718013792902824563457134983174891211553501902031045224975585787877302056406854977164299432863843277012484532700723852435811667080035227038153928377484698886057977504253585596854046396671534502177534582099232752672807715324751593208507238522693654478585039346720113933124540203203392952518914804766860752939912777417148891158483804943779329863491136352894331377255574217541999277011244317909456358873294048693615730316259457076511564152671606097144821768749646884948304331055071837365195996609681470139132081304822331748097550866436032941602442053711656198821837808436367057271272547512511341295270995860520494540973188188526413205065100118091893568964900392114790709984596780444838273525183662839467838055287414297094923759434657435485978832825311060761740974105882455613815832194131190267257926991479878591573111907373257485773281971399387337812803799321596682098525631091642956462924524887291808127053950594988823466217219246038662746806202672828255607817041938258128338070990464075843648553688585109089391549283608786731886249358453833775930777401173765346332775440466217084672679461841391540979030535682159492980123705065540179370966629795890325753534498404817002442356643393257574693170569478571479096104397210415376010100052058216935600834280640 +/- 5.53e-1504]"
      ]
     },
     "execution_count": 8,
     "metadata": {},
     "output_type": "execute_result"
    }
   ],
   "source": [
    "log(Cnk(10,2,0.5))"
   ]
  },
  {
   "cell_type": "code",
   "execution_count": 6,
   "metadata": {},
   "outputs": [
    {
     "data": {
      "text/plain": [
       "112×112 Array{Float64,2}:\n",
       "  -0.693147     0.0          0.0       …    0.0       0.0       0.0   \n",
       "  -1.38629     -1.38629      0.0            0.0       0.0       0.0   \n",
       "  -0.980829    -0.980829    -2.07944        0.0       0.0       0.0   \n",
       "  -0.0645385   -0.0645385   -0.980829       0.0       0.0       0.0   \n",
       "   1.18822      1.18822      0.340927       0.0       0.0       0.0   \n",
       "   2.6923       2.6923       1.88137   …    0.0       0.0       0.0   \n",
       "   4.39705      4.39705      3.60859        0.0       0.0       0.0   \n",
       "   6.26885      6.26885      5.49566        0.0       0.0       0.0   \n",
       "   8.28376      8.28376      7.52162        0.0       0.0       0.0   \n",
       "  10.4238      10.4238       9.67005        0.0       0.0       0.0   \n",
       "  12.6751      12.6751      11.9279    …    0.0       0.0       0.0   \n",
       "  15.0265      15.0265      14.2846         0.0       0.0       0.0   \n",
       "  17.4688      17.4688      16.7312         0.0       0.0       0.0   \n",
       "   ⋮                                   ⋱              ⋮               \n",
       " 360.17       360.17       359.472     …    0.0       0.0       0.0   \n",
       " 364.78       364.78       364.082          0.0       0.0       0.0   \n",
       " 369.4        369.4        368.702          0.0       0.0       0.0   \n",
       " 374.03       374.03       373.332          0.0       0.0       0.0   \n",
       " 378.67       378.67       377.972          0.0       0.0       0.0   \n",
       " 383.319      383.319      382.621     …    0.0       0.0       0.0   \n",
       " 387.978      387.978      387.28           0.0       0.0       0.0   \n",
       " 392.646      392.646      391.948          0.0       0.0       0.0   \n",
       " 397.323      397.323      396.625          0.0       0.0       0.0   \n",
       " 402.01       402.01       401.312        -76.2462    0.0       0.0   \n",
       " 406.706      406.706      406.008     …  -68.2225  -76.9393    0.0   \n",
       " 411.411      411.411      410.713        -60.856   -68.8976  -77.6325"
      ]
     },
     "execution_count": 6,
     "metadata": {},
     "output_type": "execute_result"
    }
   ],
   "source": [
    "A = compute_Cnk_matrix(112,1,0.5)"
   ]
  },
  {
   "cell_type": "markdown",
   "metadata": {},
   "source": [
    "# Prior distribution"
   ]
  }
 ],
 "metadata": {
  "kernelspec": {
   "display_name": "Julia 1.3.1",
   "language": "julia",
   "name": "julia-1.3"
  },
  "language_info": {
   "file_extension": ".jl",
   "mimetype": "application/julia",
   "name": "julia",
   "version": "1.3.1"
  }
 },
 "nbformat": 4,
 "nbformat_minor": 4
}
